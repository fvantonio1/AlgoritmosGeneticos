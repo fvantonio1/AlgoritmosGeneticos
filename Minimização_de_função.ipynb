{
  "nbformat": 4,
  "nbformat_minor": 0,
  "metadata": {
    "colab": {
      "name": "Trab2CEVO.ipynb",
      "provenance": [],
      "collapsed_sections": []
    },
    "kernelspec": {
      "name": "python3",
      "display_name": "Python 3"
    },
    "language_info": {
      "name": "python"
    }
  },
  "cells": [
    {
      "cell_type": "markdown",
      "source": [
        "Antonio Fernandes Valadares 11711ECP015\n",
        "\n",
        "Universidade Federal de Uberlândia \\\\\n",
        "Engenharia de Computação\n"
      ],
      "metadata": {
        "id": "p88vTjRaSqCB"
      }
    },
    {
      "cell_type": "code",
      "execution_count": null,
      "metadata": {
        "id": "puRn7yl5MOoy"
      },
      "outputs": [],
      "source": [
        "import random\n",
        "import string\n",
        "import math\n",
        "\n",
        "import pandas as pd\n",
        "import numpy as np\n",
        "import matplotlib.pyplot as plt"
      ]
    },
    {
      "cell_type": "markdown",
      "source": [
        "População inicial de valores de 0 a 1024 para representação binária"
      ],
      "metadata": {
        "id": "OHPBEhM7CsVq"
      }
    },
    {
      "cell_type": "code",
      "source": [
        "initial_population = np.random.choice(np.arange(0,1024), replace=False, size=(50))"
      ],
      "metadata": {
        "id": "CkeOQuBfS83e"
      },
      "execution_count": null,
      "outputs": []
    },
    {
      "cell_type": "code",
      "source": [
        "initial_population.shape"
      ],
      "metadata": {
        "colab": {
          "base_uri": "https://localhost:8080/"
        },
        "id": "hg96BYPkTMRg",
        "outputId": "daea831b-4156-4159-ef69-22ba0c119b66"
      },
      "execution_count": null,
      "outputs": [
        {
          "output_type": "execute_result",
          "data": {
            "text/plain": [
              "(50,)"
            ]
          },
          "metadata": {},
          "execution_count": 3
        }
      ]
    },
    {
      "cell_type": "code",
      "source": [
        "initial_population"
      ],
      "metadata": {
        "colab": {
          "base_uri": "https://localhost:8080/"
        },
        "id": "jx5ytvMvUOWL",
        "outputId": "3aba84f4-1e7d-4ebb-9bc1-3038d67ec80a"
      },
      "execution_count": null,
      "outputs": [
        {
          "output_type": "execute_result",
          "data": {
            "text/plain": [
              "array([ 391,  413, 1009,   75,  540,  506,  719,  324,  321,  895,  589,\n",
              "         88,  449,  127,  824,  439,  209,  524,  951,  317,   52,  687,\n",
              "        523, 1016,  546,  716,   64,  210,  229,  879,  839,  487,  796,\n",
              "        578,  238,   84,  950,  955,  510,  384,  214,  452,  862,  945,\n",
              "        200,  660,  490,  708,  906,  580])"
            ]
          },
          "metadata": {},
          "execution_count": 4
        }
      ]
    },
    {
      "cell_type": "markdown",
      "source": [
        "Função a ser minimizada:"
      ],
      "metadata": {
        "id": "-R104UmaCn6a"
      }
    },
    {
      "cell_type": "code",
      "source": [
        "def f(x):\n",
        "  return  (-1 * np.abs(x * math.sin(math.sqrt(np.abs(x)) ) )) + 419"
      ],
      "metadata": {
        "id": "NVLqm1STWVL7"
      },
      "execution_count": null,
      "outputs": []
    },
    {
      "cell_type": "markdown",
      "source": [
        "Gráfico da função:"
      ],
      "metadata": {
        "id": "Zw-nHkFXC72y"
      }
    },
    {
      "cell_type": "code",
      "source": [
        "lista = []\n",
        "for x in range(0,512):\n",
        "  lista.append(f(x))\n",
        "\n",
        "plt.title('f(x) no intervalor [0;512]')\n",
        "plt.xlabel('x')\n",
        "plt.ylabel('f(x)')\n",
        "plt.plot(lista, label='x')\n",
        "plt.show()"
      ],
      "metadata": {
        "colab": {
          "base_uri": "https://localhost:8080/",
          "height": 295
        },
        "id": "H5psS7oEakmS",
        "outputId": "e95d9a73-ce54-4ab1-8df0-1e3803fcbbcc"
      },
      "execution_count": null,
      "outputs": [
        {
          "output_type": "display_data",
          "data": {
            "image/png": "[encoded data removed]",
            "text/plain": [
              "<Figure size 432x288 with 1 Axes>"
            ]
          },
          "metadata": {
            "needs_background": "light"
          }
        }
      ]
    },
    {
      "cell_type": "markdown",
      "source": [
        "Calcula o fitness de toda população:"
      ],
      "metadata": {
        "id": "d9Ddb5TRCOPA"
      }
    },
    {
      "cell_type": "code",
      "source": [
        "#population = initial_population/2\n",
        "\n",
        "\n",
        "def fitness_calculate(population): \n",
        "\n",
        "\n",
        "  fitness = np.vectorize(f)(population)\n",
        "\n",
        "\n",
        "  return fitness\n",
        "\n",
        "\n",
        "\n",
        "#fitness = fitness_calculate(population)\n",
        "#fitness\n",
        "#S = fitness.sum()"
      ],
      "metadata": {
        "id": "mQbxk3goaNe3"
      },
      "execution_count": null,
      "outputs": []
    },
    {
      "cell_type": "markdown",
      "source": [
        "Ordena os indivíduos por fitness e retorna um array de duas dimensões com o valor do indivíduo e seu fitness, além disso exibe o melhor resultado."
      ],
      "metadata": {
        "id": "C_9-pS8LDBJ5"
      }
    },
    {
      "cell_type": "code",
      "source": [
        "def best_result(population, fitness):\n",
        "  result = np.column_stack((population, fitness))\n",
        "  result = result[result[:, 1].argsort()]\n",
        "  best = result[0]\n",
        "\n",
        "  print(\"Melhor solução: \",best[0],\" Melhor resultado: \", best[1])\n",
        "\n",
        "  return result\n",
        "\n",
        "#result = best_result(population, fitness)"
      ],
      "metadata": {
        "id": "kc7HLQBgfbqT"
      },
      "execution_count": null,
      "outputs": []
    },
    {
      "cell_type": "markdown",
      "source": [
        "Seleciona os melhores indivíduos utilizando o metódo da roleta"
      ],
      "metadata": {
        "id": "TWaLqdEyCIjv"
      }
    },
    {
      "cell_type": "code",
      "source": [
        "def select(result, s):\n",
        "\n",
        "  bin_population = []\n",
        "\n",
        "  c = 0\n",
        "  for element in result:\n",
        "    c = (element[1]/s) + c\n",
        "\n",
        "\n",
        "  for element in result:\n",
        "    if(random.random() < c):\n",
        "      bin_population.append(\"{0:010b}\".format(int(element[0]*2)))\n",
        "    c = c - element[1]/s\n",
        "\n",
        "\n",
        "  return bin_population\n",
        "\n",
        "\n",
        "def select_individuals(result):\n",
        "  select_ind = result[0:25, 0] * 2\n",
        "  bin_population = [\"{0:010b}\".format(int(x)) for x in select_ind]\n",
        "  \n",
        "  return bin_population\n",
        "\n",
        "#bin_population = select(result, fitness.sum())\n"
      ],
      "metadata": {
        "id": "JdN7q06rfd0_"
      },
      "execution_count": null,
      "outputs": []
    },
    {
      "cell_type": "markdown",
      "source": [
        "Realiza o crossover entre os indivíduos selecionados, cada crossover resulta em 2 filhos."
      ],
      "metadata": {
        "id": "qliyULoHDgOs"
      }
    },
    {
      "cell_type": "code",
      "source": [
        "def crossover(population):\n",
        "  new_population = []\n",
        "\n",
        "  #for element in population:\n",
        "  new_population.append(population[0])\n",
        "\n",
        "\n",
        "  while(len(new_population) < 50):  \n",
        "    p1 = random.choice(population)\n",
        "    p2 = random.choice(population)\n",
        "\n",
        "    i = random.randint(0,10)\n",
        "\n",
        "    f1 = p1[0:i] + p2[i:10]\n",
        "    f2 = p2[0:i] + p1[i:10]\n",
        "\n",
        "    new_population.append(f1)\n",
        "    new_population.append(f2)\n",
        "\n",
        "  #for i in range(0, 5):\n",
        "    #new_population.append(\"{0:010b}\".format(int(random.randint(0,1024))))\n",
        "\n",
        "  return new_population\n",
        "\n",
        "\n",
        "#crossover(bin_population)\n"
      ],
      "metadata": {
        "id": "GB2Lt9r8pXd2"
      },
      "execution_count": null,
      "outputs": []
    },
    {
      "cell_type": "markdown",
      "source": [
        "Converte strings binárias para números inteiros\n"
      ],
      "metadata": {
        "id": "HneOSgqcDxcT"
      }
    },
    {
      "cell_type": "code",
      "source": [
        "def converte_bin(population):\n",
        "  float_population = []\n",
        "\n",
        "  for element in population:\n",
        "    float_population.append(int(element, 2))\n",
        "\n",
        "  return float_population"
      ],
      "metadata": {
        "id": "9wawKn6rg9uq"
      },
      "execution_count": null,
      "outputs": []
    },
    {
      "cell_type": "markdown",
      "source": [
        "Aplica uma probabildade de mutação a toda população:\n"
      ],
      "metadata": {
        "id": "gAHbQrp3EAX8"
      }
    },
    {
      "cell_type": "code",
      "source": [
        "def mutation(population):\n",
        "  new_population = []\n",
        "\n",
        "  for element in population:\n",
        "    if(random.random() < 0.05):\n",
        "      new_element = list(element)\n",
        "      pos = random.randint(0,9)\n",
        "      if  (new_element[pos] == '1'):\n",
        "        new_element[pos] = '0'\n",
        "      else:\n",
        "        new_element[pos] = '1'\n",
        "      new_population.append(''.join(new_element))\n",
        "    else:\n",
        "      new_population.append(element)\n",
        "  return new_population\n"
      ],
      "metadata": {
        "id": "-s5Qx71IV_bc"
      },
      "execution_count": null,
      "outputs": []
    },
    {
      "cell_type": "code",
      "source": [
        "def genetic_algorithm(initial_population, geracoes=100):\n",
        "  \n",
        "  i = 0\n",
        "  \n",
        "  \n",
        "  while(i<geracoes):\n",
        "\n",
        "    print(\"Geração: \", i+1)\n",
        "\n",
        "    population = initial_population/2\n",
        "\n",
        "    fitness = fitness_calculate(population)\n",
        "\n",
        "\n",
        "    print(\"Média de Fitness: \", fitness.sum()/50)\n",
        "\n",
        "    result = best_result(population, fitness)\n",
        "\n",
        "    select_population = select(result, fitness.sum())\n",
        "\n",
        "    new_population = crossover(select_population)\n",
        "\n",
        "    new_population = mutation(new_population)\n",
        "\n",
        "    initial_population = converte_bin(new_population)\n",
        "\n",
        "    initial_population = np.array(initial_population)\n",
        "\n",
        "    i = i + 1\n"
      ],
      "metadata": {
        "id": "sFvA3BF7WcuF"
      },
      "execution_count": null,
      "outputs": []
    },
    {
      "cell_type": "code",
      "source": [
        "genetic_algorithm(initial_population, geracoes=100)"
      ],
      "metadata": {
        "colab": {
          "base_uri": "https://localhost:8080/"
        },
        "id": "filKfQLog3o1",
        "outputId": "1035a159-42e4-4617-b2df-0d48a10bbfb1"
      },
      "execution_count": null,
      "outputs": [
        {
          "output_type": "stream",
          "name": "stdout",
          "text": [
            "Geração:  1\n",
            "Média de Fitness:  274.93684804549173\n",
            "Melhor solução:  419.5  Melhor resultado:  0.2891344519273389\n",
            "Geração:  2\n",
            "Média de Fitness:  205.22424260655637\n",
            "Melhor solução:  421.5  Melhor resultado:  0.05273233434513713\n",
            "Geração:  3\n",
            "Média de Fitness:  196.6858837804629\n",
            "Melhor solução:  421.5  Melhor resultado:  0.05273233434513713\n",
            "Geração:  4\n",
            "Média de Fitness:  133.44616332961172\n",
            "Melhor solução:  421.5  Melhor resultado:  0.05273233434513713\n",
            "Geração:  5\n",
            "Média de Fitness:  70.86995690372329\n",
            "Melhor solução:  421.5  Melhor resultado:  0.05273233434513713\n",
            "Geração:  6\n",
            "Média de Fitness:  48.85355132311528\n",
            "Melhor solução:  421.5  Melhor resultado:  0.05273233434513713\n",
            "Geração:  7\n",
            "Média de Fitness:  43.473576367595705\n",
            "Melhor solução:  421.5  Melhor resultado:  0.05273233434513713\n",
            "Geração:  8\n",
            "Média de Fitness:  15.301644943619443\n",
            "Melhor solução:  421.5  Melhor resultado:  0.05273233434513713\n",
            "Geração:  9\n",
            "Média de Fitness:  15.274760180711237\n",
            "Melhor solução:  421.5  Melhor resultado:  0.05273233434513713\n",
            "Geração:  10\n",
            "Média de Fitness:  32.19279776767404\n",
            "Melhor solução:  421.0  Melhor resultado:  0.017235983855698578\n",
            "Geração:  11\n",
            "Média de Fitness:  5.59694587012719\n",
            "Melhor solução:  421.0  Melhor resultado:  0.017235983855698578\n",
            "Geração:  12\n",
            "Média de Fitness:  6.585346921549669\n",
            "Melhor solução:  421.0  Melhor resultado:  0.017235983855698578\n",
            "Geração:  13\n",
            "Média de Fitness:  6.207859390373247\n",
            "Melhor solução:  421.0  Melhor resultado:  0.017235983855698578\n",
            "Geração:  14\n",
            "Média de Fitness:  7.854400621671034\n",
            "Melhor solução:  421.0  Melhor resultado:  0.017235983855698578\n",
            "Geração:  15\n",
            "Média de Fitness:  27.20225852696594\n",
            "Melhor solução:  421.0  Melhor resultado:  0.017235983855698578\n",
            "Geração:  16\n",
            "Média de Fitness:  27.85450537980068\n",
            "Melhor solução:  421.0  Melhor resultado:  0.017235983855698578\n",
            "Geração:  17\n",
            "Média de Fitness:  15.127501099200108\n",
            "Melhor solução:  421.0  Melhor resultado:  0.017235983855698578\n",
            "Geração:  18\n",
            "Média de Fitness:  3.042468761300813\n",
            "Melhor solução:  421.0  Melhor resultado:  0.017235983855698578\n",
            "Geração:  19\n",
            "Média de Fitness:  3.3730578719147477\n",
            "Melhor solução:  421.0  Melhor resultado:  0.017235983855698578\n",
            "Geração:  20\n",
            "Média de Fitness:  9.363778733714247\n",
            "Melhor solução:  421.0  Melhor resultado:  0.017235983855698578\n",
            "Geração:  21\n",
            "Média de Fitness:  5.0719075685816986\n",
            "Melhor solução:  421.0  Melhor resultado:  0.017235983855698578\n",
            "Geração:  22\n",
            "Média de Fitness:  11.038664883941756\n",
            "Melhor solução:  421.0  Melhor resultado:  0.017235983855698578\n",
            "Geração:  23\n",
            "Média de Fitness:  31.918040754597296\n",
            "Melhor solução:  421.0  Melhor resultado:  0.017235983855698578\n",
            "Geração:  24\n",
            "Média de Fitness:  14.039171132032662\n",
            "Melhor solução:  421.0  Melhor resultado:  0.017235983855698578\n",
            "Geração:  25\n",
            "Média de Fitness:  17.730808677942186\n",
            "Melhor solução:  421.0  Melhor resultado:  0.017235983855698578\n",
            "Geração:  26\n",
            "Média de Fitness:  32.871625806833364\n",
            "Melhor solução:  421.0  Melhor resultado:  0.017235983855698578\n",
            "Geração:  27\n",
            "Média de Fitness:  13.499485161625511\n",
            "Melhor solução:  421.0  Melhor resultado:  0.017235983855698578\n",
            "Geração:  28\n",
            "Média de Fitness:  10.190181659518078\n",
            "Melhor solução:  421.0  Melhor resultado:  0.017235983855698578\n",
            "Geração:  29\n",
            "Média de Fitness:  10.151476977420822\n",
            "Melhor solução:  421.0  Melhor resultado:  0.017235983855698578\n",
            "Geração:  30\n",
            "Média de Fitness:  38.75411317792904\n",
            "Melhor solução:  421.0  Melhor resultado:  0.017235983855698578\n",
            "Geração:  31\n",
            "Média de Fitness:  39.336201292968155\n",
            "Melhor solução:  421.0  Melhor resultado:  0.017235983855698578\n",
            "Geração:  32\n",
            "Média de Fitness:  59.26644576973379\n",
            "Melhor solução:  421.0  Melhor resultado:  0.017235983855698578\n",
            "Geração:  33\n",
            "Média de Fitness:  28.317955055761423\n",
            "Melhor solução:  421.0  Melhor resultado:  0.017235983855698578\n",
            "Geração:  34\n",
            "Média de Fitness:  17.555551868048095\n",
            "Melhor solução:  421.0  Melhor resultado:  0.017235983855698578\n",
            "Geração:  35\n",
            "Média de Fitness:  17.911993662117816\n",
            "Melhor solução:  421.0  Melhor resultado:  0.017235983855698578\n",
            "Geração:  36\n",
            "Média de Fitness:  10.480292461573478\n",
            "Melhor solução:  421.0  Melhor resultado:  0.017235983855698578\n",
            "Geração:  37\n",
            "Média de Fitness:  11.237784619573345\n",
            "Melhor solução:  421.0  Melhor resultado:  0.017235983855698578\n",
            "Geração:  38\n",
            "Média de Fitness:  3.143345560789056\n",
            "Melhor solução:  421.0  Melhor resultado:  0.017235983855698578\n",
            "Geração:  39\n",
            "Média de Fitness:  8.06787367712208\n",
            "Melhor solução:  421.0  Melhor resultado:  0.017235983855698578\n",
            "Geração:  40\n",
            "Média de Fitness:  19.89526119606954\n",
            "Melhor solução:  421.0  Melhor resultado:  0.017235983855698578\n",
            "Geração:  41\n",
            "Média de Fitness:  11.70076097045712\n",
            "Melhor solução:  421.0  Melhor resultado:  0.017235983855698578\n",
            "Geração:  42\n",
            "Média de Fitness:  10.667429266717996\n",
            "Melhor solução:  421.0  Melhor resultado:  0.017235983855698578\n",
            "Geração:  43\n",
            "Média de Fitness:  0.5237215434099801\n",
            "Melhor solução:  421.0  Melhor resultado:  0.017235983855698578\n",
            "Geração:  44\n",
            "Média de Fitness:  10.671732013924865\n",
            "Melhor solução:  421.0  Melhor resultado:  0.017235983855698578\n",
            "Geração:  45\n",
            "Média de Fitness:  21.906942599085202\n",
            "Melhor solução:  421.0  Melhor resultado:  0.017235983855698578\n",
            "Geração:  46\n",
            "Média de Fitness:  18.029965456401285\n",
            "Melhor solução:  421.0  Melhor resultado:  0.017235983855698578\n",
            "Geração:  47\n",
            "Média de Fitness:  3.6661184049270013\n",
            "Melhor solução:  421.0  Melhor resultado:  0.017235983855698578\n",
            "Geração:  48\n",
            "Média de Fitness:  18.96771227133508\n",
            "Melhor solução:  421.0  Melhor resultado:  0.017235983855698578\n",
            "Geração:  49\n",
            "Média de Fitness:  32.015409135356464\n",
            "Melhor solução:  421.0  Melhor resultado:  0.017235983855698578\n",
            "Geração:  50\n",
            "Média de Fitness:  27.962496696181667\n",
            "Melhor solução:  421.0  Melhor resultado:  0.017235983855698578\n",
            "Geração:  51\n",
            "Média de Fitness:  5.264154198032809\n",
            "Melhor solução:  421.0  Melhor resultado:  0.017235983855698578\n",
            "Geração:  52\n",
            "Média de Fitness:  16.70604487948705\n",
            "Melhor solução:  421.0  Melhor resultado:  0.017235983855698578\n",
            "Geração:  53\n",
            "Média de Fitness:  12.474426714987095\n",
            "Melhor solução:  421.0  Melhor resultado:  0.017235983855698578\n",
            "Geração:  54\n",
            "Média de Fitness:  14.165883601300978\n",
            "Melhor solução:  421.0  Melhor resultado:  0.017235983855698578\n",
            "Geração:  55\n",
            "Média de Fitness:  11.486536028038781\n",
            "Melhor solução:  421.0  Melhor resultado:  0.017235983855698578\n",
            "Geração:  56\n",
            "Média de Fitness:  16.128819642082934\n",
            "Melhor solução:  421.0  Melhor resultado:  0.017235983855698578\n",
            "Geração:  57\n",
            "Média de Fitness:  15.481654179879555\n",
            "Melhor solução:  421.0  Melhor resultado:  0.017235983855698578\n",
            "Geração:  58\n",
            "Média de Fitness:  17.310631120136108\n",
            "Melhor solução:  421.0  Melhor resultado:  0.017235983855698578\n",
            "Geração:  59\n",
            "Média de Fitness:  27.36871397373169\n",
            "Melhor solução:  421.0  Melhor resultado:  0.017235983855698578\n",
            "Geração:  60\n",
            "Média de Fitness:  15.455658503471536\n",
            "Melhor solução:  421.0  Melhor resultado:  0.017235983855698578\n",
            "Geração:  61\n",
            "Média de Fitness:  0.5798628164234594\n",
            "Melhor solução:  421.0  Melhor resultado:  0.017235983855698578\n",
            "Geração:  62\n",
            "Média de Fitness:  0.717065402657222\n",
            "Melhor solução:  421.0  Melhor resultado:  0.017235983855698578\n",
            "Geração:  63\n",
            "Média de Fitness:  4.359261536110865\n",
            "Melhor solução:  421.0  Melhor resultado:  0.017235983855698578\n",
            "Geração:  64\n",
            "Média de Fitness:  4.0353189501299065\n",
            "Melhor solução:  421.0  Melhor resultado:  0.017235983855698578\n",
            "Geração:  65\n",
            "Média de Fitness:  10.869408295847439\n",
            "Melhor solução:  421.0  Melhor resultado:  0.017235983855698578\n",
            "Geração:  66\n",
            "Média de Fitness:  8.632100329172015\n",
            "Melhor solução:  421.0  Melhor resultado:  0.017235983855698578\n",
            "Geração:  67\n",
            "Média de Fitness:  5.95487443829576\n",
            "Melhor solução:  421.0  Melhor resultado:  0.017235983855698578\n",
            "Geração:  68\n",
            "Média de Fitness:  2.860866761895004\n",
            "Melhor solução:  421.0  Melhor resultado:  0.017235983855698578\n",
            "Geração:  69\n",
            "Média de Fitness:  2.512581279417002\n",
            "Melhor solução:  421.0  Melhor resultado:  0.017235983855698578\n",
            "Geração:  70\n",
            "Média de Fitness:  3.3568325897163196\n",
            "Melhor solução:  421.0  Melhor resultado:  0.017235983855698578\n",
            "Geração:  71\n",
            "Média de Fitness:  3.8162502400577183\n",
            "Melhor solução:  421.0  Melhor resultado:  0.017235983855698578\n",
            "Geração:  72\n",
            "Média de Fitness:  9.575683163568026\n",
            "Melhor solução:  421.0  Melhor resultado:  0.017235983855698578\n",
            "Geração:  73\n",
            "Média de Fitness:  3.871197908917559\n",
            "Melhor solução:  421.0  Melhor resultado:  0.017235983855698578\n",
            "Geração:  74\n",
            "Média de Fitness:  14.480645419763727\n",
            "Melhor solução:  421.0  Melhor resultado:  0.017235983855698578\n",
            "Geração:  75\n",
            "Média de Fitness:  4.325599867713282\n",
            "Melhor solução:  421.0  Melhor resultado:  0.017235983855698578\n",
            "Geração:  76\n",
            "Média de Fitness:  13.98293278319251\n",
            "Melhor solução:  421.0  Melhor resultado:  0.017235983855698578\n",
            "Geração:  77\n",
            "Média de Fitness:  7.094105151974201\n",
            "Melhor solução:  421.0  Melhor resultado:  0.017235983855698578\n",
            "Geração:  78\n",
            "Média de Fitness:  7.7950237291302\n",
            "Melhor solução:  421.0  Melhor resultado:  0.017235983855698578\n",
            "Geração:  79\n",
            "Média de Fitness:  8.127831590453265\n",
            "Melhor solução:  421.0  Melhor resultado:  0.017235983855698578\n",
            "Geração:  80\n",
            "Média de Fitness:  10.54111752679038\n",
            "Melhor solução:  421.0  Melhor resultado:  0.017235983855698578\n",
            "Geração:  81\n",
            "Média de Fitness:  7.534305650372349\n",
            "Melhor solução:  421.0  Melhor resultado:  0.017235983855698578\n",
            "Geração:  82\n",
            "Média de Fitness:  5.968639974581671\n",
            "Melhor solução:  421.0  Melhor resultado:  0.017235983855698578\n",
            "Geração:  83\n",
            "Média de Fitness:  6.750009095739367\n",
            "Melhor solução:  421.0  Melhor resultado:  0.017235983855698578\n",
            "Geração:  84\n",
            "Média de Fitness:  3.6029229589918916\n",
            "Melhor solução:  421.0  Melhor resultado:  0.017235983855698578\n",
            "Geração:  85\n",
            "Média de Fitness:  14.50579660439548\n",
            "Melhor solução:  421.0  Melhor resultado:  0.017235983855698578\n",
            "Geração:  86\n",
            "Média de Fitness:  30.914311346671866\n",
            "Melhor solução:  421.0  Melhor resultado:  0.017235983855698578\n",
            "Geração:  87\n",
            "Média de Fitness:  30.72059646940072\n",
            "Melhor solução:  421.0  Melhor resultado:  0.017235983855698578\n",
            "Geração:  88\n",
            "Média de Fitness:  16.826794085395985\n",
            "Melhor solução:  421.0  Melhor resultado:  0.017235983855698578\n",
            "Geração:  89\n",
            "Média de Fitness:  7.874091243719043\n",
            "Melhor solução:  421.0  Melhor resultado:  0.017235983855698578\n",
            "Geração:  90\n",
            "Média de Fitness:  11.488645358093974\n",
            "Melhor solução:  421.0  Melhor resultado:  0.017235983855698578\n",
            "Geração:  91\n",
            "Média de Fitness:  9.5779965613103\n",
            "Melhor solução:  421.0  Melhor resultado:  0.017235983855698578\n",
            "Geração:  92\n",
            "Média de Fitness:  12.101550606117069\n",
            "Melhor solução:  421.0  Melhor resultado:  0.017235983855698578\n",
            "Geração:  93\n",
            "Média de Fitness:  22.78955072540353\n",
            "Melhor solução:  421.0  Melhor resultado:  0.017235983855698578\n",
            "Geração:  94\n",
            "Média de Fitness:  24.181205168624338\n",
            "Melhor solução:  421.0  Melhor resultado:  0.017235983855698578\n",
            "Geração:  95\n",
            "Média de Fitness:  49.83802840153017\n",
            "Melhor solução:  421.0  Melhor resultado:  0.017235983855698578\n",
            "Geração:  96\n",
            "Média de Fitness:  43.15314812066097\n",
            "Melhor solução:  421.0  Melhor resultado:  0.017235983855698578\n",
            "Geração:  97\n",
            "Média de Fitness:  23.632547193165543\n",
            "Melhor solução:  421.0  Melhor resultado:  0.017235983855698578\n",
            "Geração:  98\n",
            "Média de Fitness:  19.027485521531982\n",
            "Melhor solução:  421.0  Melhor resultado:  0.017235983855698578\n",
            "Geração:  99\n",
            "Média de Fitness:  16.93439692118939\n",
            "Melhor solução:  421.0  Melhor resultado:  0.017235983855698578\n",
            "Geração:  100\n",
            "Média de Fitness:  1.746124725141973\n",
            "Melhor solução:  421.0  Melhor resultado:  0.017235983855698578\n"
          ]
        }
      ]
    }
  ]
}