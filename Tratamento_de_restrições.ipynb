{
  "nbformat": 4,
  "nbformat_minor": 0,
  "metadata": {
    "colab": {
      "name": "Tratamento de restrições.ipynb",
      "provenance": [],
      "collapsed_sections": []
    },
    "kernelspec": {
      "name": "python3",
      "display_name": "Python 3"
    },
    "language_info": {
      "name": "python"
    }
  },
  "cells": [
    {
      "cell_type": "markdown",
      "source": [
        "Antonio Fernandes Valadares - 11711ECP015 \\\n",
        "Computação Evolutiva \\\n",
        "Universidade Federal de Uberlândia - Engenharia de computação \\\n",
        "Professor: Keiji Yamanaka \\\n",
        "Trabalho 7 : Tratamento de restrições"
      ],
      "metadata": {
        "id": "l11qJrdmj4ZO"
      }
    },
    {
      "cell_type": "code",
      "execution_count": 22,
      "metadata": {
        "id": "ik0vXmhRj0Wl"
      },
      "outputs": [],
      "source": [
        "import numpy as np\n",
        "import matplotlib.pyplot as plt\n",
        "import pandas as pd"
      ]
    },
    {
      "cell_type": "markdown",
      "source": [
        "Objetivo: Minimizar a função F(X_1, X_2), sujeito as restrições \\\n",
        "\n",
        "X_1 + X_2 - 0.5 <= 0 e X_1 - X_2 - 2 = 0, \\\n",
        "para -3<=X_1<=5 e -3<=X_2<=5\n"
      ],
      "metadata": {
        "id": "W4c5O0DekG8I"
      }
    },
    {
      "cell_type": "code",
      "source": [
        "# Portanto a função a ser minimizada é\n",
        "\n",
        "rp = 1 # coeficiente de penalização\n",
        "\n",
        "def funcao(X, rp=rp):\n",
        "  return (X[0] - 1)**2 + (X[1] - 1)**2 + rp*((max(0.0, X[0] + X[1] - 0.5))**2 + (X[0] - X[1] - 2)**2)\n",
        "\n",
        "funcao([1, 2])"
      ],
      "metadata": {
        "colab": {
          "base_uri": "https://localhost:8080/"
        },
        "id": "Td0JC0yKkE3p",
        "outputId": "26f036e5-fbc1-4999-b79f-f178c6b9eef9"
      },
      "execution_count": 23,
      "outputs": [
        {
          "output_type": "execute_result",
          "data": {
            "text/plain": [
              "16.25"
            ]
          },
          "metadata": {},
          "execution_count": 23
        }
      ]
    },
    {
      "cell_type": "code",
      "source": [
        "def initial_population(size):\n",
        "\n",
        "  population = (8) * np.random.rand(size, 2) - 3\n",
        "  \n",
        "  return population"
      ],
      "metadata": {
        "id": "UW-w2APqm_7j"
      },
      "execution_count": 24,
      "outputs": []
    },
    {
      "cell_type": "code",
      "source": [
        "population = initial_population(10)\n",
        "population"
      ],
      "metadata": {
        "colab": {
          "base_uri": "https://localhost:8080/"
        },
        "id": "Vs2pTIRDnb7t",
        "outputId": "c42c8ee2-45b6-42cd-a21f-5d7a88f3205f"
      },
      "execution_count": 25,
      "outputs": [
        {
          "output_type": "execute_result",
          "data": {
            "text/plain": [
              "array([[ 4.00816991,  3.47168417],\n",
              "       [-0.79456085,  0.03664352],\n",
              "       [-1.2111531 ,  0.26935055],\n",
              "       [ 3.87745934, -2.28758332],\n",
              "       [-0.65044895,  4.1867171 ],\n",
              "       [ 4.08973636, -1.58762176],\n",
              "       [-1.28006267,  2.45295445],\n",
              "       [ 1.288674  ,  3.36754186],\n",
              "       [-1.8675899 ,  0.64749515],\n",
              "       [ 1.10365698,  3.95995005]])"
            ]
          },
          "metadata": {},
          "execution_count": 25
        }
      ]
    },
    {
      "cell_type": "markdown",
      "source": [
        "Calcula o fitness dos individuos"
      ],
      "metadata": {
        "id": "N5fwUYofnwBO"
      }
    },
    {
      "cell_type": "code",
      "source": [
        "funcao(population[3])"
      ],
      "metadata": {
        "colab": {
          "base_uri": "https://localhost:8080/"
        },
        "id": "YwMXkLSnnqyt",
        "outputId": "070f8208-d7f7-49ec-bfad-c8524a38fa90"
      },
      "execution_count": 26,
      "outputs": [
        {
          "output_type": "execute_result",
          "data": {
            "text/plain": [
              "37.6233863673089"
            ]
          },
          "metadata": {},
          "execution_count": 26
        }
      ]
    },
    {
      "cell_type": "code",
      "source": [
        "def fitness(population, size, rp):\n",
        "  fitness = np.zeros((size,))\n",
        "\n",
        "  for i in range(0, len(population)):\n",
        "    fitness[i] = funcao(population[i], rp=rp)\n",
        "\n",
        "  population = np.column_stack((population, fitness))\n",
        "  population = population[np.argsort(population[:,-1])]\n",
        "\n",
        "  return population"
      ],
      "metadata": {
        "id": "FwG1RIUwn4Qu"
      },
      "execution_count": 27,
      "outputs": []
    },
    {
      "cell_type": "code",
      "source": [
        "population = fitness(population, 10, rp)\n",
        "population"
      ],
      "metadata": {
        "colab": {
          "base_uri": "https://localhost:8080/"
        },
        "id": "UFApP9umoNL3",
        "outputId": "7ffb8d47-dc86-492d-8d2c-b8ada70d2142"
      },
      "execution_count": 28,
      "outputs": [
        {
          "output_type": "execute_result",
          "data": {
            "text/plain": [
              "array([[-7.94560851e-01,  3.66435232e-02,  1.21642226e+01],\n",
              "       [-1.21115310e+00,  2.69350548e-01,  1.75369523e+01],\n",
              "       [-1.86758990e+00,  6.47495149e-01,  2.87333245e+01],\n",
              "       [ 4.08973636e+00, -1.58762176e+00,  3.37736828e+01],\n",
              "       [ 3.87745934e+00, -2.28758332e+00,  3.76233864e+01],\n",
              "       [ 1.28867400e+00,  3.36754186e+00,  3.95998805e+01],\n",
              "       [-1.28006267e+00,  2.45295445e+00,  4.06300310e+01],\n",
              "       [ 1.10365698e+00,  3.95995005e+00,  5.31821405e+01],\n",
              "       [ 4.00816991e+00,  3.47168417e+00,  6.60185460e+01],\n",
              "       [-6.50448953e-01,  4.18671710e+00,  6.88449114e+01]])"
            ]
          },
          "metadata": {},
          "execution_count": 28
        }
      ]
    },
    {
      "cell_type": "code",
      "source": [
        "def crossover(population, size, crossover_rate, k):\n",
        "  new_population = []\n",
        "\n",
        "  new_population.append(list(population[0,:2]))\n",
        "  while(len(new_population) < size):\n",
        "    \n",
        "    #torneio\n",
        "    p1 = population[np.min(np.random.choice(np.arange(0,size), size=k)),:2]\n",
        "\n",
        "    p2 = population[np.min(np.random.choice(np.arange(0,size), size=k)),:2]\n",
        "\n",
        "    if np.random.random() <= crossover_rate:\n",
        "      beta = np.random.random()\n",
        "      f1 = beta * p1 + (1-beta) * p2\n",
        "      f2 = (1-beta) * p1 + beta * p2\n",
        "      new_population.append(list(f1))\n",
        "      new_population.append(list(f2))\n",
        "    else:\n",
        "      new_population.append(list(p1))\n",
        "      new_population.append(list(p2))\n",
        "\n",
        "  if len(new_population) > size:\n",
        "    del new_population[-1]\n",
        "\n",
        "\n",
        "  return np.array(new_population)"
      ],
      "metadata": {
        "id": "0ughKrIBoktJ"
      },
      "execution_count": 29,
      "outputs": []
    },
    {
      "cell_type": "code",
      "source": [
        "crossover(population, 10, 0, 3)"
      ],
      "metadata": {
        "colab": {
          "base_uri": "https://localhost:8080/"
        },
        "id": "eSL7L3Xco8zb",
        "outputId": "0dc4272a-c30a-4048-d5c7-35d52744a8c7"
      },
      "execution_count": 30,
      "outputs": [
        {
          "output_type": "execute_result",
          "data": {
            "text/plain": [
              "array([[-0.79456085,  0.03664352],\n",
              "       [ 4.08973636, -1.58762176],\n",
              "       [-0.79456085,  0.03664352],\n",
              "       [-0.79456085,  0.03664352],\n",
              "       [-0.79456085,  0.03664352],\n",
              "       [-1.8675899 ,  0.64749515],\n",
              "       [-0.79456085,  0.03664352],\n",
              "       [-1.2111531 ,  0.26935055],\n",
              "       [ 3.87745934, -2.28758332],\n",
              "       [-0.79456085,  0.03664352]])"
            ]
          },
          "metadata": {},
          "execution_count": 30
        }
      ]
    },
    {
      "cell_type": "code",
      "source": [
        "def mutation(population, mutation_rate):\n",
        "\n",
        "  for element in population:\n",
        "    if np.random.random() <= mutation_rate:\n",
        "      element[np.random.randint(2)] = (8) * np.random.rand() - 3\n",
        "\n",
        "  return population"
      ],
      "metadata": {
        "id": "eZnwcbjCyFgu"
      },
      "execution_count": 31,
      "outputs": []
    },
    {
      "cell_type": "code",
      "source": [
        "mutation(population, 1)"
      ],
      "metadata": {
        "colab": {
          "base_uri": "https://localhost:8080/"
        },
        "id": "GXSKd3rzyhZP",
        "outputId": "8c86b4c7-24db-490f-ba7a-2f108514d305"
      },
      "execution_count": 32,
      "outputs": [
        {
          "output_type": "execute_result",
          "data": {
            "text/plain": [
              "array([[ 1.15136334e-01,  3.66435232e-02,  1.21642226e+01],\n",
              "       [-1.92428472e+00,  2.69350548e-01,  1.75369523e+01],\n",
              "       [-1.86758990e+00, -1.71808404e-01,  2.87333245e+01],\n",
              "       [-1.41459965e+00, -1.58762176e+00,  3.37736828e+01],\n",
              "       [ 3.87745934e+00,  4.27952277e+00,  3.76233864e+01],\n",
              "       [ 1.71649146e+00,  3.36754186e+00,  3.95998805e+01],\n",
              "       [-2.68304591e+00,  2.45295445e+00,  4.06300310e+01],\n",
              "       [ 3.76793752e+00,  3.95995005e+00,  5.31821405e+01],\n",
              "       [ 4.00816991e+00,  3.54666184e+00,  6.60185460e+01],\n",
              "       [ 5.60262005e-01,  4.18671710e+00,  6.88449114e+01]])"
            ]
          },
          "metadata": {},
          "execution_count": 32
        }
      ]
    },
    {
      "cell_type": "code",
      "source": [
        "def genetic_algorithm(size=20, crossover_rate=0.6, k=3, geracoes=100, mutation_rate=0.1, rp=0.1):\n",
        "  population = initial_population(size)\n",
        "\n",
        "  for _ in range(geracoes):\n",
        "    population = fitness(population, size, rp)\n",
        "    population = crossover(population, size, crossover_rate, k)\n",
        "    population = mutation(population, mutation_rate)\n",
        "\n",
        "  population = fitness(population,size, rp)\n",
        "\n",
        "  return population"
      ],
      "metadata": {
        "id": "oRM8JBI4ypNu"
      },
      "execution_count": 36,
      "outputs": []
    },
    {
      "cell_type": "code",
      "source": [
        "genetic_algorithm(size=50, geracoes=1000, rp=1)"
      ],
      "metadata": {
        "colab": {
          "base_uri": "https://localhost:8080/"
        },
        "id": "DFCyxVL6zJMy",
        "outputId": "0f27c19d-604a-4631-d7f2-08a41a87a61d"
      },
      "execution_count": 48,
      "outputs": [
        {
          "output_type": "execute_result",
          "data": {
            "text/plain": [
              "array([[ 1.16666667, -0.16444598,  2.08334813],\n",
              "       [ 1.16666667, -0.16444598,  2.08334813],\n",
              "       [ 1.16666667, -0.16444598,  2.08334813],\n",
              "       [ 1.16666667, -0.16444598,  2.08334813],\n",
              "       [ 1.16666667, -0.16444598,  2.08334813],\n",
              "       [ 1.16666667, -0.16444598,  2.08334813],\n",
              "       [ 1.16666667, -0.16444598,  2.08334813],\n",
              "       [ 1.16666667, -0.16444598,  2.08334813],\n",
              "       [ 1.16666667, -0.16444598,  2.08334813],\n",
              "       [ 1.16666667, -0.16444598,  2.08334813],\n",
              "       [ 1.16666667, -0.16444598,  2.08334813],\n",
              "       [ 1.16666667, -0.16444598,  2.08334813],\n",
              "       [ 1.16666667, -0.16444598,  2.08334813],\n",
              "       [ 1.16666667, -0.16444598,  2.08334813],\n",
              "       [ 1.16666667, -0.16444598,  2.08334813],\n",
              "       [ 1.16666667, -0.16444598,  2.08334813],\n",
              "       [ 1.16666667, -0.16444598,  2.08334813],\n",
              "       [ 1.16666667, -0.16444598,  2.08334813],\n",
              "       [ 1.16666667, -0.16444598,  2.08334813],\n",
              "       [ 1.16666667, -0.16444598,  2.08334813],\n",
              "       [ 1.16666667, -0.16444598,  2.08334813],\n",
              "       [ 1.16666667, -0.16444598,  2.08334813],\n",
              "       [ 1.16666667, -0.16444598,  2.08334813],\n",
              "       [ 1.16666667, -0.16444598,  2.08334813],\n",
              "       [ 1.16666667, -0.16444598,  2.08334813],\n",
              "       [ 1.16666667, -0.16444598,  2.08334813],\n",
              "       [ 1.16666667, -0.16444598,  2.08334813],\n",
              "       [ 1.16666667, -0.16444598,  2.08334813],\n",
              "       [ 1.16666667, -0.16444598,  2.08334813],\n",
              "       [ 1.16666667, -0.16444598,  2.08334813],\n",
              "       [ 1.16666667, -0.16444598,  2.08334813],\n",
              "       [ 1.16666667, -0.16444598,  2.08334813],\n",
              "       [ 1.16666667, -0.16444598,  2.08334813],\n",
              "       [ 1.16666667, -0.16444598,  2.08334813],\n",
              "       [ 1.16666667, -0.16444598,  2.08334813],\n",
              "       [ 1.16666667, -0.16444598,  2.08334813],\n",
              "       [ 1.16666667, -0.16444598,  2.08334813],\n",
              "       [ 1.16666667, -0.16444598,  2.08334813],\n",
              "       [ 1.16666667, -0.16444598,  2.08334813],\n",
              "       [ 1.16666667, -0.16444598,  2.08334813],\n",
              "       [ 1.16666667, -0.16444598,  2.08334813],\n",
              "       [ 1.16666667, -0.16444598,  2.08334813],\n",
              "       [ 1.16666667, -0.16444598,  2.08334813],\n",
              "       [ 1.16666667, -0.07970593,  2.10601984],\n",
              "       [ 2.12347671, -0.16444598,  4.8298045 ],\n",
              "       [-1.20867376, -0.16444598, 15.50149697],\n",
              "       [ 1.16666667,  2.84911333, 29.36812034],\n",
              "       [-2.37427817, -0.16444598, 30.46437477],\n",
              "       [ 4.5688206 , -0.16444598, 36.80730228],\n",
              "       [ 1.16666667,  3.4650689 , 41.65184303]])"
            ]
          },
          "metadata": {},
          "execution_count": 48
        }
      ]
    }
  ]
}